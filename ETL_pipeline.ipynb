{
 "cells": [
  {
   "cell_type": "markdown",
   "metadata": {},
   "source": [
    "### installing necessary libraries"
   ]
  },
  {
   "cell_type": "code",
   "execution_count": null,
   "metadata": {},
   "outputs": [],
   "source": [
    "!pip install pyarrow\n",
    "!pip install azure-storage-blob\n",
    "!pip install python-dotenv"
   ]
  },
  {
   "cell_type": "markdown",
   "metadata": {},
   "source": [
    "### IMPORT NECESSARY LIBRARIES"
   ]
  },
  {
   "cell_type": "code",
   "execution_count": 18,
   "metadata": {},
   "outputs": [],
   "source": [
    "### IMPORT NECESSARY LIBRARIES\n",
    "import datetime\n",
    "import pandas as pd\n",
    "import os\n",
    "import io\n",
    "from azure.storage.blob import BlobServiceClient, BlobClient\n",
    "from dotenv import load_dotenv"
   ]
  },
  {
   "cell_type": "markdown",
   "metadata": {},
   "source": [
    "### EXTRACTION LAYER"
   ]
  },
  {
   "cell_type": "code",
   "execution_count": 3,
   "metadata": {},
   "outputs": [],
   "source": [
    "### EXTRACTION LAYER\n",
    "ziko_df = pd.read_csv('ziko_logistics_data.csv')"
   ]
  },
  {
   "cell_type": "code",
   "execution_count": 4,
   "metadata": {},
   "outputs": [
    {
     "data": {
      "text/plain": [
       "Index(['Transaction_ID', 'Date', 'Customer_ID', 'Product_ID', 'Quantity',\n",
       "       'Unit_Price', 'Total_Cost', 'Discount_Rate', 'Sales_Channel',\n",
       "       'Order_Priority', 'Warehouse_Code', 'Ship_Mode', 'Delivery_Status',\n",
       "       'Customer_Satisfaction', 'Item_Returned', 'Return_Reason',\n",
       "       'Payment_Type', 'Taxable', 'Region', 'Country', 'Customer_Name',\n",
       "       'Customer_Phone', 'Customer_Email', 'Customer_Address',\n",
       "       'Product_List_Title'],\n",
       "      dtype='object')"
      ]
     },
     "execution_count": 4,
     "metadata": {},
     "output_type": "execute_result"
    }
   ],
   "source": [
    "ziko_df.columns"
   ]
  },
  {
   "cell_type": "markdown",
   "metadata": {},
   "source": [
    "### Data cleaning and transformation"
   ]
  },
  {
   "cell_type": "code",
   "execution_count": 5,
   "metadata": {},
   "outputs": [
    {
     "name": "stdout",
     "output_type": "stream",
     "text": [
      "<class 'pandas.core.frame.DataFrame'>\n",
      "RangeIndex: 1005 entries, 0 to 1004\n",
      "Data columns (total 25 columns):\n",
      " #   Column                 Non-Null Count  Dtype  \n",
      "---  ------                 --------------  -----  \n",
      " 0   Transaction_ID         1005 non-null   int64  \n",
      " 1   Date                   1005 non-null   object \n",
      " 2   Customer_ID            1005 non-null   int64  \n",
      " 3   Product_ID             1005 non-null   int64  \n",
      " 4   Quantity               1005 non-null   int64  \n",
      " 5   Unit_Price             904 non-null    float64\n",
      " 6   Total_Cost             905 non-null    float64\n",
      " 7   Discount_Rate          714 non-null    float64\n",
      " 8   Sales_Channel          1005 non-null   object \n",
      " 9   Order_Priority         1005 non-null   object \n",
      " 10  Warehouse_Code         1005 non-null   object \n",
      " 11  Ship_Mode              1005 non-null   object \n",
      " 12  Delivery_Status        1005 non-null   object \n",
      " 13  Customer_Satisfaction  1005 non-null   object \n",
      " 14  Item_Returned          1005 non-null   bool   \n",
      " 15  Return_Reason          904 non-null    object \n",
      " 16  Payment_Type           1005 non-null   object \n",
      " 17  Taxable                1005 non-null   bool   \n",
      " 18  Region                 1005 non-null   object \n",
      " 19  Country                1005 non-null   object \n",
      " 20  Customer_Name          1005 non-null   object \n",
      " 21  Customer_Phone         1005 non-null   object \n",
      " 22  Customer_Email         1005 non-null   object \n",
      " 23  Customer_Address       1005 non-null   object \n",
      " 24  Product_List_Title     1005 non-null   object \n",
      "dtypes: bool(2), float64(3), int64(4), object(16)\n",
      "memory usage: 182.7+ KB\n"
     ]
    }
   ],
   "source": [
    "# check for missing or null values\n",
    "ziko_df.info()"
   ]
  },
  {
   "cell_type": "code",
   "execution_count": 6,
   "metadata": {},
   "outputs": [
    {
     "name": "stdout",
     "output_type": "stream",
     "text": [
      "<class 'pandas.core.frame.DataFrame'>\n",
      "RangeIndex: 1005 entries, 0 to 1004\n",
      "Data columns (total 25 columns):\n",
      " #   Column                 Non-Null Count  Dtype  \n",
      "---  ------                 --------------  -----  \n",
      " 0   Transaction_ID         1005 non-null   int64  \n",
      " 1   Date                   1005 non-null   object \n",
      " 2   Customer_ID            1005 non-null   int64  \n",
      " 3   Product_ID             1005 non-null   int64  \n",
      " 4   Quantity               1005 non-null   int64  \n",
      " 5   Unit_Price             1005 non-null   float64\n",
      " 6   Total_Cost             1005 non-null   float64\n",
      " 7   Discount_Rate          1005 non-null   float64\n",
      " 8   Sales_Channel          1005 non-null   object \n",
      " 9   Order_Priority         1005 non-null   object \n",
      " 10  Warehouse_Code         1005 non-null   object \n",
      " 11  Ship_Mode              1005 non-null   object \n",
      " 12  Delivery_Status        1005 non-null   object \n",
      " 13  Customer_Satisfaction  1005 non-null   object \n",
      " 14  Item_Returned          1005 non-null   bool   \n",
      " 15  Return_Reason          1005 non-null   object \n",
      " 16  Payment_Type           1005 non-null   object \n",
      " 17  Taxable                1005 non-null   bool   \n",
      " 18  Region                 1005 non-null   object \n",
      " 19  Country                1005 non-null   object \n",
      " 20  Customer_Name          1005 non-null   object \n",
      " 21  Customer_Phone         1005 non-null   object \n",
      " 22  Customer_Email         1005 non-null   object \n",
      " 23  Customer_Address       1005 non-null   object \n",
      " 24  Product_List_Title     1005 non-null   object \n",
      "dtypes: bool(2), float64(3), int64(4), object(16)\n",
      "memory usage: 182.7+ KB\n"
     ]
    }
   ],
   "source": [
    "### Data cleaning and transformation\n",
    "ziko_df.fillna({\n",
    "    'Unit_Price': ziko_df['Unit_Price'].mean(), # unit price dtype is float so by default fill it with mean\n",
    "    'Total_Cost': ziko_df['Total_Cost'].mean(),\n",
    "    'Discount_Rate': 0.0,\n",
    "    'Return_Reason': 'Unknown'\n",
    "    }, inplace=True)\n",
    "\n",
    "\n",
    "ziko_df.info()"
   ]
  },
  {
   "cell_type": "code",
   "execution_count": 7,
   "metadata": {},
   "outputs": [
    {
     "name": "stdout",
     "output_type": "stream",
     "text": [
      "<class 'pandas.core.frame.DataFrame'>\n",
      "RangeIndex: 1005 entries, 0 to 1004\n",
      "Data columns (total 25 columns):\n",
      " #   Column                 Non-Null Count  Dtype         \n",
      "---  ------                 --------------  -----         \n",
      " 0   Transaction_ID         1005 non-null   int64         \n",
      " 1   Date                   1005 non-null   datetime64[ns]\n",
      " 2   Customer_ID            1005 non-null   int64         \n",
      " 3   Product_ID             1005 non-null   int64         \n",
      " 4   Quantity               1005 non-null   int64         \n",
      " 5   Unit_Price             1005 non-null   float64       \n",
      " 6   Total_Cost             1005 non-null   float64       \n",
      " 7   Discount_Rate          1005 non-null   float64       \n",
      " 8   Sales_Channel          1005 non-null   object        \n",
      " 9   Order_Priority         1005 non-null   object        \n",
      " 10  Warehouse_Code         1005 non-null   object        \n",
      " 11  Ship_Mode              1005 non-null   object        \n",
      " 12  Delivery_Status        1005 non-null   object        \n",
      " 13  Customer_Satisfaction  1005 non-null   object        \n",
      " 14  Item_Returned          1005 non-null   bool          \n",
      " 15  Return_Reason          1005 non-null   object        \n",
      " 16  Payment_Type           1005 non-null   object        \n",
      " 17  Taxable                1005 non-null   bool          \n",
      " 18  Region                 1005 non-null   object        \n",
      " 19  Country                1005 non-null   object        \n",
      " 20  Customer_Name          1005 non-null   object        \n",
      " 21  Customer_Phone         1005 non-null   object        \n",
      " 22  Customer_Email         1005 non-null   object        \n",
      " 23  Customer_Address       1005 non-null   object        \n",
      " 24  Product_List_Title     1005 non-null   object        \n",
      "dtypes: bool(2), datetime64[ns](1), float64(3), int64(4), object(15)\n",
      "memory usage: 182.7+ KB\n"
     ]
    }
   ],
   "source": [
    "# correct and convert Date datatype\n",
    "ziko_df['Date'] = pd.to_datetime(ziko_df['Date'])\n",
    "\n",
    "ziko_df.info()"
   ]
  },
  {
   "cell_type": "code",
   "execution_count": 8,
   "metadata": {},
   "outputs": [
    {
     "data": {
      "text/plain": [
       "Index(['Transaction_ID', 'Date', 'Customer_ID', 'Product_ID', 'Quantity',\n",
       "       'Unit_Price', 'Total_Cost', 'Discount_Rate', 'Sales_Channel',\n",
       "       'Order_Priority', 'Warehouse_Code', 'Ship_Mode', 'Delivery_Status',\n",
       "       'Customer_Satisfaction', 'Item_Returned', 'Return_Reason',\n",
       "       'Payment_Type', 'Taxable', 'Region', 'Country', 'Customer_Name',\n",
       "       'Customer_Phone', 'Customer_Email', 'Customer_Address',\n",
       "       'Product_List_Title'],\n",
       "      dtype='object')"
      ]
     },
     "execution_count": 8,
     "metadata": {},
     "output_type": "execute_result"
    }
   ],
   "source": [
    "ziko_df.columns"
   ]
  },
  {
   "cell_type": "markdown",
   "metadata": {},
   "source": [
    "### CREATE TABLE"
   ]
  },
  {
   "cell_type": "code",
   "execution_count": 9,
   "metadata": {},
   "outputs": [
    {
     "data": {
      "text/html": [
       "<div>\n",
       "<style scoped>\n",
       "    .dataframe tbody tr th:only-of-type {\n",
       "        vertical-align: middle;\n",
       "    }\n",
       "\n",
       "    .dataframe tbody tr th {\n",
       "        vertical-align: top;\n",
       "    }\n",
       "\n",
       "    .dataframe thead th {\n",
       "        text-align: right;\n",
       "    }\n",
       "</style>\n",
       "<table border=\"1\" class=\"dataframe\">\n",
       "  <thead>\n",
       "    <tr style=\"text-align: right;\">\n",
       "      <th></th>\n",
       "      <th>Customer_ID</th>\n",
       "      <th>Customer_Name</th>\n",
       "      <th>Customer_Phone</th>\n",
       "      <th>Customer_Email</th>\n",
       "      <th>Customer_Address</th>\n",
       "    </tr>\n",
       "  </thead>\n",
       "  <tbody>\n",
       "    <tr>\n",
       "      <th>0</th>\n",
       "      <td>1086</td>\n",
       "      <td>Customer 200</td>\n",
       "      <td>+1-652-572-9306</td>\n",
       "      <td>customer.200.78@example.com</td>\n",
       "      <td>275 Second St, Phoenix, USA</td>\n",
       "    </tr>\n",
       "    <tr>\n",
       "      <th>1</th>\n",
       "      <td>1078</td>\n",
       "      <td>Customer 321</td>\n",
       "      <td>+1-311-186-5760</td>\n",
       "      <td>customer.321.13@sample.com</td>\n",
       "      <td>478 Third St, New York, USA</td>\n",
       "    </tr>\n",
       "    <tr>\n",
       "      <th>2</th>\n",
       "      <td>1077</td>\n",
       "      <td>Customer 989</td>\n",
       "      <td>+1-922-606-9032</td>\n",
       "      <td>customer.989.99@example.com</td>\n",
       "      <td>843 Second St, Phoenix, USA</td>\n",
       "    </tr>\n",
       "    <tr>\n",
       "      <th>3</th>\n",
       "      <td>1027</td>\n",
       "      <td>Customer 682</td>\n",
       "      <td>+1-237-853-5808</td>\n",
       "      <td>customer.682.66@demo.com</td>\n",
       "      <td>153 Main St, Phoenix, USA</td>\n",
       "    </tr>\n",
       "    <tr>\n",
       "      <th>4</th>\n",
       "      <td>1052</td>\n",
       "      <td>Customer 484</td>\n",
       "      <td>+1-986-360-9109</td>\n",
       "      <td>customer.484.3@sample.com</td>\n",
       "      <td>264 Second St, New York, USA</td>\n",
       "    </tr>\n",
       "  </tbody>\n",
       "</table>\n",
       "</div>"
      ],
      "text/plain": [
       "   Customer_ID Customer_Name   Customer_Phone               Customer_Email  \\\n",
       "0         1086  Customer 200  +1-652-572-9306  customer.200.78@example.com   \n",
       "1         1078  Customer 321  +1-311-186-5760   customer.321.13@sample.com   \n",
       "2         1077  Customer 989  +1-922-606-9032  customer.989.99@example.com   \n",
       "3         1027  Customer 682  +1-237-853-5808     customer.682.66@demo.com   \n",
       "4         1052  Customer 484  +1-986-360-9109    customer.484.3@sample.com   \n",
       "\n",
       "               Customer_Address  \n",
       "0   275 Second St, Phoenix, USA  \n",
       "1   478 Third St, New York, USA  \n",
       "2   843 Second St, Phoenix, USA  \n",
       "3     153 Main St, Phoenix, USA  \n",
       "4  264 Second St, New York, USA  "
      ]
     },
     "execution_count": 9,
     "metadata": {},
     "output_type": "execute_result"
    }
   ],
   "source": [
    "### CREATE TABLE\n",
    "Customer_table = ziko_df[['Customer_ID','Customer_Name','Customer_Phone', 'Customer_Email', 'Customer_Address']].copy().drop_duplicates()\\\n",
    ".reset_index(drop=True)\n",
    "\n",
    "Customer_table.head()"
   ]
  },
  {
   "cell_type": "code",
   "execution_count": 10,
   "metadata": {},
   "outputs": [
    {
     "data": {
      "text/html": [
       "<div>\n",
       "<style scoped>\n",
       "    .dataframe tbody tr th:only-of-type {\n",
       "        vertical-align: middle;\n",
       "    }\n",
       "\n",
       "    .dataframe tbody tr th {\n",
       "        vertical-align: top;\n",
       "    }\n",
       "\n",
       "    .dataframe thead th {\n",
       "        text-align: right;\n",
       "    }\n",
       "</style>\n",
       "<table border=\"1\" class=\"dataframe\">\n",
       "  <thead>\n",
       "    <tr style=\"text-align: right;\">\n",
       "      <th></th>\n",
       "      <th>Product_ID</th>\n",
       "      <th>Product_List_Title</th>\n",
       "      <th>Unit_Price</th>\n",
       "      <th>Quantity</th>\n",
       "    </tr>\n",
       "  </thead>\n",
       "  <tbody>\n",
       "    <tr>\n",
       "      <th>0</th>\n",
       "      <td>536</td>\n",
       "      <td>Product 53</td>\n",
       "      <td>120.436821</td>\n",
       "      <td>3</td>\n",
       "    </tr>\n",
       "    <tr>\n",
       "      <th>1</th>\n",
       "      <td>523</td>\n",
       "      <td>Product 33</td>\n",
       "      <td>475.724994</td>\n",
       "      <td>6</td>\n",
       "    </tr>\n",
       "    <tr>\n",
       "      <th>2</th>\n",
       "      <td>535</td>\n",
       "      <td>Product 6</td>\n",
       "      <td>146.400556</td>\n",
       "      <td>3</td>\n",
       "    </tr>\n",
       "    <tr>\n",
       "      <th>3</th>\n",
       "      <td>546</td>\n",
       "      <td>Product 68</td>\n",
       "      <td>19.373194</td>\n",
       "      <td>6</td>\n",
       "    </tr>\n",
       "    <tr>\n",
       "      <th>4</th>\n",
       "      <td>556</td>\n",
       "      <td>Product 89</td>\n",
       "      <td>193.221313</td>\n",
       "      <td>8</td>\n",
       "    </tr>\n",
       "  </tbody>\n",
       "</table>\n",
       "</div>"
      ],
      "text/plain": [
       "   Product_ID Product_List_Title  Unit_Price  Quantity\n",
       "0         536         Product 53  120.436821         3\n",
       "1         523         Product 33  475.724994         6\n",
       "2         535          Product 6  146.400556         3\n",
       "3         546         Product 68   19.373194         6\n",
       "4         556         Product 89  193.221313         8"
      ]
     },
     "execution_count": 10,
     "metadata": {},
     "output_type": "execute_result"
    }
   ],
   "source": [
    "### CREATE TABLE\n",
    "Product_table = ziko_df[['Product_ID','Product_List_Title','Unit_Price','Quantity']].copy().drop_duplicates()\\\n",
    ".reset_index(drop=True)\n",
    "\n",
    "Product_table.head()"
   ]
  },
  {
   "cell_type": "code",
   "execution_count": 11,
   "metadata": {},
   "outputs": [
    {
     "data": {
      "text/html": [
       "<div>\n",
       "<style scoped>\n",
       "    .dataframe tbody tr th:only-of-type {\n",
       "        vertical-align: middle;\n",
       "    }\n",
       "\n",
       "    .dataframe tbody tr th {\n",
       "        vertical-align: top;\n",
       "    }\n",
       "\n",
       "    .dataframe thead th {\n",
       "        text-align: right;\n",
       "    }\n",
       "</style>\n",
       "<table border=\"1\" class=\"dataframe\">\n",
       "  <thead>\n",
       "    <tr style=\"text-align: right;\">\n",
       "      <th></th>\n",
       "      <th>Transaction_ID</th>\n",
       "      <th>Product_ID</th>\n",
       "      <th>Customer_ID</th>\n",
       "      <th>Total_Cost</th>\n",
       "      <th>Discount_Rate</th>\n",
       "      <th>Sales_Channel</th>\n",
       "      <th>Order_Priority</th>\n",
       "      <th>Warehouse_Code</th>\n",
       "      <th>Ship_Mode</th>\n",
       "      <th>Delivery_Status</th>\n",
       "      <th>Customer_Satisfaction</th>\n",
       "      <th>Item_Returned</th>\n",
       "      <th>Return_Reason</th>\n",
       "      <th>Payment_Type</th>\n",
       "      <th>Taxable</th>\n",
       "      <th>Region</th>\n",
       "      <th>Country</th>\n",
       "    </tr>\n",
       "  </thead>\n",
       "  <tbody>\n",
       "    <tr>\n",
       "      <th>0</th>\n",
       "      <td>200</td>\n",
       "      <td>536</td>\n",
       "      <td>1086</td>\n",
       "      <td>8265.374549</td>\n",
       "      <td>0.20</td>\n",
       "      <td>Online</td>\n",
       "      <td>High</td>\n",
       "      <td>WH-3</td>\n",
       "      <td>2-Day</td>\n",
       "      <td>Cancelled</td>\n",
       "      <td>Neutral</td>\n",
       "      <td>False</td>\n",
       "      <td>Wrong Item</td>\n",
       "      <td>Wire Transfer</td>\n",
       "      <td>False</td>\n",
       "      <td>West</td>\n",
       "      <td>Canada</td>\n",
       "    </tr>\n",
       "    <tr>\n",
       "      <th>1</th>\n",
       "      <td>321</td>\n",
       "      <td>523</td>\n",
       "      <td>1078</td>\n",
       "      <td>4047.850479</td>\n",
       "      <td>0.00</td>\n",
       "      <td>Reseller</td>\n",
       "      <td>Critical</td>\n",
       "      <td>WH-1</td>\n",
       "      <td>Overnight</td>\n",
       "      <td>Backorder</td>\n",
       "      <td>Satisfied</td>\n",
       "      <td>True</td>\n",
       "      <td>Damaged</td>\n",
       "      <td>PayPal</td>\n",
       "      <td>True</td>\n",
       "      <td>South</td>\n",
       "      <td>Mexico</td>\n",
       "    </tr>\n",
       "    <tr>\n",
       "      <th>2</th>\n",
       "      <td>989</td>\n",
       "      <td>535</td>\n",
       "      <td>1077</td>\n",
       "      <td>5096.553818</td>\n",
       "      <td>0.05</td>\n",
       "      <td>Direct</td>\n",
       "      <td>Critical</td>\n",
       "      <td>WH-1</td>\n",
       "      <td>Overnight</td>\n",
       "      <td>Pending</td>\n",
       "      <td>Unsatisfied</td>\n",
       "      <td>True</td>\n",
       "      <td>Damaged</td>\n",
       "      <td>PayPal</td>\n",
       "      <td>True</td>\n",
       "      <td>West</td>\n",
       "      <td>Canada</td>\n",
       "    </tr>\n",
       "    <tr>\n",
       "      <th>3</th>\n",
       "      <td>682</td>\n",
       "      <td>546</td>\n",
       "      <td>1027</td>\n",
       "      <td>8194.281993</td>\n",
       "      <td>0.00</td>\n",
       "      <td>Reseller</td>\n",
       "      <td>Medium</td>\n",
       "      <td>WH-1</td>\n",
       "      <td>Express</td>\n",
       "      <td>Pending</td>\n",
       "      <td>Unsatisfied</td>\n",
       "      <td>False</td>\n",
       "      <td>Wrong Item</td>\n",
       "      <td>Cash</td>\n",
       "      <td>True</td>\n",
       "      <td>South</td>\n",
       "      <td>Canada</td>\n",
       "    </tr>\n",
       "    <tr>\n",
       "      <th>4</th>\n",
       "      <td>484</td>\n",
       "      <td>556</td>\n",
       "      <td>1052</td>\n",
       "      <td>8331.329249</td>\n",
       "      <td>0.20</td>\n",
       "      <td>Direct</td>\n",
       "      <td>Low</td>\n",
       "      <td>WH-2</td>\n",
       "      <td>2-Day</td>\n",
       "      <td>Delivered</td>\n",
       "      <td>Satisfied</td>\n",
       "      <td>True</td>\n",
       "      <td>Late</td>\n",
       "      <td>Cash</td>\n",
       "      <td>False</td>\n",
       "      <td>South</td>\n",
       "      <td>Mexico</td>\n",
       "    </tr>\n",
       "  </tbody>\n",
       "</table>\n",
       "</div>"
      ],
      "text/plain": [
       "   Transaction_ID  Product_ID  Customer_ID   Total_Cost  Discount_Rate  \\\n",
       "0             200         536         1086  8265.374549           0.20   \n",
       "1             321         523         1078  4047.850479           0.00   \n",
       "2             989         535         1077  5096.553818           0.05   \n",
       "3             682         546         1027  8194.281993           0.00   \n",
       "4             484         556         1052  8331.329249           0.20   \n",
       "\n",
       "  Sales_Channel Order_Priority Warehouse_Code  Ship_Mode Delivery_Status  \\\n",
       "0        Online           High           WH-3      2-Day       Cancelled   \n",
       "1      Reseller       Critical           WH-1  Overnight       Backorder   \n",
       "2        Direct       Critical           WH-1  Overnight         Pending   \n",
       "3      Reseller         Medium           WH-1    Express         Pending   \n",
       "4        Direct            Low           WH-2      2-Day       Delivered   \n",
       "\n",
       "  Customer_Satisfaction  Item_Returned Return_Reason   Payment_Type  Taxable  \\\n",
       "0               Neutral          False    Wrong Item  Wire Transfer    False   \n",
       "1             Satisfied           True       Damaged         PayPal     True   \n",
       "2           Unsatisfied           True       Damaged         PayPal     True   \n",
       "3           Unsatisfied          False    Wrong Item           Cash     True   \n",
       "4             Satisfied           True          Late           Cash    False   \n",
       "\n",
       "  Region Country  \n",
       "0   West  Canada  \n",
       "1  South  Mexico  \n",
       "2   West  Canada  \n",
       "3  South  Canada  \n",
       "4  South  Mexico  "
      ]
     },
     "execution_count": 11,
     "metadata": {},
     "output_type": "execute_result"
    }
   ],
   "source": [
    "### CREATE TABLE\n",
    "Transaction_Fact_Table = ziko_df.merge(Customer_table, on= ['Customer_ID','Customer_Name','Customer_Phone', 'Customer_Email', 'Customer_Address'], how='left')\\\n",
    "                                .merge(Product_table, on= ['Product_ID','Product_List_Title','Unit_Price','Quantity'], how='left')\\\n",
    "                                [['Transaction_ID','Product_ID','Customer_ID','Total_Cost', 'Discount_Rate', 'Sales_Channel','Order_Priority', 'Warehouse_Code', 'Ship_Mode', 'Delivery_Status',\\\n",
    "                                'Customer_Satisfaction', 'Item_Returned', 'Return_Reason','Payment_Type', 'Taxable', 'Region', 'Country',]]\n",
    "\n",
    "Transaction_Fact_Table.head()\n",
    "                    "
   ]
  },
  {
   "cell_type": "markdown",
   "metadata": {},
   "source": [
    "### SAVE AS CSV"
   ]
  },
  {
   "cell_type": "code",
   "execution_count": 12,
   "metadata": {},
   "outputs": [
    {
     "name": "stdout",
     "output_type": "stream",
     "text": [
      "file have been loaded temporarily into local machine\n"
     ]
    }
   ],
   "source": [
    "### LOAD TEMPORALLY AS CSV\n",
    "Customer_table.to_csv(r'Dataset\\Customer_table.csv', index=False)\n",
    "Product_table.to_csv(r'Dataset\\Product_table.csv', index=False)\n",
    "Transaction_Fact_Table.to_csv(r'Dataset\\Transaction_Fact_Table.csv', index=False)\n",
    "\n",
    "print('file have been loaded temporarily into local machine')"
   ]
  },
  {
   "cell_type": "markdown",
   "metadata": {},
   "source": [
    "### DATA LOADING"
   ]
  },
  {
   "cell_type": "code",
   "execution_count": 13,
   "metadata": {},
   "outputs": [],
   "source": [
    "### DATA LOADING\n",
    "# set up azure blob connection\n",
    "load_dotenv()\n",
    "connect_str = os.getenv('CONNECT_STR')\n",
    "blob_service_client = BlobServiceClient.from_connection_string(connect_str)\n",
    "\n",
    "container_name = os.getenv('CONTAINER_NAME')\n",
    "container_client = blob_service_client.get_container_client(container_name)"
   ]
  },
  {
   "cell_type": "markdown",
   "metadata": {},
   "source": [
    "### Data Access protection standard"
   ]
  },
  {
   "cell_type": "code",
   "execution_count": 14,
   "metadata": {},
   "outputs": [],
   "source": [
    "## To ignore your dontenv data access from from being pushed to github \n",
    "# create a .gitignore file to disable that"
   ]
  },
  {
   "cell_type": "markdown",
   "metadata": {},
   "source": [
    "### Create a function that will load the data into azure blob storage as parquet file"
   ]
  },
  {
   "cell_type": "code",
   "execution_count": 15,
   "metadata": {},
   "outputs": [],
   "source": [
    "### Create a function that will load the data into azure blob storage as parquet file\n",
    "def upload_df_to_blob_as_parquet(df, container_client, blob_name):\n",
    "    buffer = io.BytesIO()\n",
    "    df.to_parquet(buffer, index=False)\n",
    "    buffer.seek(0)\n",
    "    blob_client = container_client.get_blob_client(blob_name)\n",
    "    blob_client.upload_blob(buffer, blob_type=\"BlockBlob\", overwrite=True)\n",
    "    print(f'{blob_name} uploaded to blob storage successfully')"
   ]
  },
  {
   "cell_type": "code",
   "execution_count": 16,
   "metadata": {},
   "outputs": [
    {
     "name": "stdout",
     "output_type": "stream",
     "text": [
      "rawdata/Customer_table.parquet uploaded to blob storage successfully\n",
      "rawdata/Product_table.parquet uploaded to blob storage successfully\n",
      "rawdata/Transaction_Fact_Table.parquet uploaded to blob storage successfully\n"
     ]
    }
   ],
   "source": [
    "## data upload\n",
    "upload_df_to_blob_as_parquet(Customer_table, container_client, 'rawdata/Customer_table.parquet')\n",
    "upload_df_to_blob_as_parquet(Product_table, container_client, 'rawdata/Product_table.parquet')\n",
    "upload_df_to_blob_as_parquet(Transaction_Fact_Table, container_client, 'rawdata/Transaction_Fact_Table.parquet')"
   ]
  },
  {
   "cell_type": "markdown",
   "metadata": {},
   "source": [
    "### Authomate the entire process into a pipeline "
   ]
  },
  {
   "cell_type": "code",
   "execution_count": 17,
   "metadata": {},
   "outputs": [],
   "source": [
    "## design an ETL pipeline using task schedule to confirm if the pipeline will run on schedule\n"
   ]
  }
 ],
 "metadata": {
  "kernelspec": {
   "display_name": "Python 3",
   "language": "python",
   "name": "python3"
  },
  "language_info": {
   "codemirror_mode": {
    "name": "ipython",
    "version": 3
   },
   "file_extension": ".py",
   "mimetype": "text/x-python",
   "name": "python",
   "nbconvert_exporter": "python",
   "pygments_lexer": "ipython3",
   "version": "3.12.6"
  }
 },
 "nbformat": 4,
 "nbformat_minor": 2
}
